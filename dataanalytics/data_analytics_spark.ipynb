{
  "nbformat": 4,
  "nbformat_minor": 0,
  "metadata": {
    "colab": {
      "provenance": [],
      "authorship_tag": "ABX9TyPr2vv5qjU3Hg5eCGc4kGKZ",
      "include_colab_link": true
    },
    "kernelspec": {
      "name": "python3",
      "display_name": "Python 3"
    },
    "language_info": {
      "name": "python"
    }
  },
  "cells": [
    {
      "cell_type": "markdown",
      "metadata": {
        "id": "view-in-github",
        "colab_type": "text"
      },
      "source": [
        "<a href=\"https://colab.research.google.com/github/thinkaboutcode/cheatsheets/blob/main/code_spark_cheatsheet.ipynb\" target=\"_parent\"><img src=\"https://colab.research.google.com/assets/colab-badge.svg\" alt=\"Open In Colab\"/></a>"
      ]
    },
    {
      "cell_type": "markdown",
      "source": [
        "# Spark Data Frames"
      ],
      "metadata": {
        "id": "qQc5fKbjmsMd"
      }
    },
    {
      "cell_type": "code",
      "execution_count": 1,
      "metadata": {
        "colab": {
          "base_uri": "https://localhost:8080/"
        },
        "id": "XA8oPRU8iZ8A",
        "outputId": "afa34128-0fa0-4983-835d-77cc90e46519"
      },
      "outputs": [
        {
          "output_type": "stream",
          "name": "stdout",
          "text": [
            "Collecting pyspark\n",
            "  Downloading pyspark-3.5.3.tar.gz (317.3 MB)\n",
            "\u001b[2K     \u001b[90m━━━━━━━━━━━━━━━━━━━━━━━━━━━━━━━━━━━━━━━━\u001b[0m \u001b[32m317.3/317.3 MB\u001b[0m \u001b[31m4.1 MB/s\u001b[0m eta \u001b[36m0:00:00\u001b[0m\n",
            "\u001b[?25h  Preparing metadata (setup.py) ... \u001b[?25l\u001b[?25hdone\n",
            "Requirement already satisfied: py4j==0.10.9.7 in /usr/local/lib/python3.10/dist-packages (from pyspark) (0.10.9.7)\n",
            "Building wheels for collected packages: pyspark\n",
            "  Building wheel for pyspark (setup.py) ... \u001b[?25l\u001b[?25hdone\n",
            "  Created wheel for pyspark: filename=pyspark-3.5.3-py2.py3-none-any.whl size=317840625 sha256=2e85ed482e5cb9352e0103ed2661f9dfc2156257cc9e75c5d1ad92d1bba83410\n",
            "  Stored in directory: /root/.cache/pip/wheels/1b/3a/92/28b93e2fbfdbb07509ca4d6f50c5e407f48dce4ddbda69a4ab\n",
            "Successfully built pyspark\n",
            "Installing collected packages: pyspark\n",
            "Successfully installed pyspark-3.5.3\n"
          ]
        }
      ],
      "source": [
        "!pip install pyspark"
      ]
    },
    {
      "cell_type": "code",
      "source": [
        "from pyspark.sql import SparkSession\n",
        "\n",
        "spark = SparkSession.builder \\\n",
        "    .appName(\"PySpark DataFrames Tutorial\") \\\n",
        "    .getOrCreate()\n"
      ],
      "metadata": {
        "id": "8CX0m7-Li3fK"
      },
      "execution_count": 30,
      "outputs": []
    },
    {
      "cell_type": "code",
      "source": [
        "spark"
      ],
      "metadata": {
        "colab": {
          "base_uri": "https://localhost:8080/",
          "height": 219
        },
        "id": "UQXTliMSi-S4",
        "outputId": "9e0ccd44-83f2-41f8-a794-a818f38835aa"
      },
      "execution_count": 31,
      "outputs": [
        {
          "output_type": "execute_result",
          "data": {
            "text/plain": [
              "<pyspark.sql.session.SparkSession at 0x7c43ba78dc60>"
            ],
            "text/html": [
              "\n",
              "            <div>\n",
              "                <p><b>SparkSession - in-memory</b></p>\n",
              "                \n",
              "        <div>\n",
              "            <p><b>SparkContext</b></p>\n",
              "\n",
              "            <p><a href=\"http://4ad2224b9407:4040\">Spark UI</a></p>\n",
              "\n",
              "            <dl>\n",
              "              <dt>Version</dt>\n",
              "                <dd><code>v3.5.3</code></dd>\n",
              "              <dt>Master</dt>\n",
              "                <dd><code>local[*]</code></dd>\n",
              "              <dt>AppName</dt>\n",
              "                <dd><code>Colab-Spark</code></dd>\n",
              "            </dl>\n",
              "        </div>\n",
              "        \n",
              "            </div>\n",
              "        "
            ]
          },
          "metadata": {},
          "execution_count": 31
        }
      ]
    },
    {
      "cell_type": "markdown",
      "source": [
        "## Creating a DataFrame from a List"
      ],
      "metadata": {
        "id": "T2fW0blZk3UD"
      }
    },
    {
      "cell_type": "code",
      "source": [
        "data = [(\"Alice\", 1), (\"Bob\", 2), (\"Cathy\", 3)]\n",
        "df = spark.createDataFrame(data, [\"Name\", \"Id\"])\n",
        "df.show()\n"
      ],
      "metadata": {
        "colab": {
          "base_uri": "https://localhost:8080/"
        },
        "id": "Y3l8L2Zvja4m",
        "outputId": "a1c7229e-a7aa-44d1-c1ed-605ad7a58827"
      },
      "execution_count": 6,
      "outputs": [
        {
          "output_type": "stream",
          "name": "stdout",
          "text": [
            "+-----+---+\n",
            "| Name| Id|\n",
            "+-----+---+\n",
            "|Alice|  1|\n",
            "|  Bob|  2|\n",
            "|Cathy|  3|\n",
            "+-----+---+\n",
            "\n"
          ]
        }
      ]
    },
    {
      "cell_type": "markdown",
      "source": [
        "## Creating a DataFrame from a Dictionary"
      ],
      "metadata": {
        "id": "Y3uasR1OlFL_"
      }
    },
    {
      "cell_type": "code",
      "source": [
        "data_dict = [{\"Name\": \"Alice\", \"Id\": 1}, {\"Name\": \"Bob\", \"Id\": 2}, {\"Name\": \"Cathy\", \"Id\": 3}]\n",
        "df_dict = spark.createDataFrame(data_dict)\n",
        "\n",
        "df_dict.show()\n"
      ],
      "metadata": {
        "colab": {
          "base_uri": "https://localhost:8080/"
        },
        "id": "shfY7KPelGe_",
        "outputId": "73e1cd91-d272-4a69-96a3-32af825f5290"
      },
      "execution_count": 17,
      "outputs": [
        {
          "output_type": "stream",
          "name": "stdout",
          "text": [
            "+---+-----+\n",
            "| Id| Name|\n",
            "+---+-----+\n",
            "|  1|Alice|\n",
            "|  2|  Bob|\n",
            "|  3|Cathy|\n",
            "+---+-----+\n",
            "\n"
          ]
        }
      ]
    },
    {
      "cell_type": "code",
      "source": [
        "df.show()"
      ],
      "metadata": {
        "colab": {
          "base_uri": "https://localhost:8080/"
        },
        "id": "F4Shc7F7lL_p",
        "outputId": "c902b688-e5a1-4384-d296-fdeecf1c3b31"
      },
      "execution_count": 18,
      "outputs": [
        {
          "output_type": "stream",
          "name": "stdout",
          "text": [
            "+-----+---+\n",
            "| Name| Id|\n",
            "+-----+---+\n",
            "|Alice|  1|\n",
            "|  Bob|  2|\n",
            "|Cathy|  3|\n",
            "+-----+---+\n",
            "\n"
          ]
        }
      ]
    },
    {
      "cell_type": "code",
      "source": [
        "df.printSchema()"
      ],
      "metadata": {
        "colab": {
          "base_uri": "https://localhost:8080/"
        },
        "id": "DnsysSeLlO3T",
        "outputId": "0865d7f5-cad8-4cc2-d0e2-745036100747"
      },
      "execution_count": 20,
      "outputs": [
        {
          "output_type": "stream",
          "name": "stdout",
          "text": [
            "root\n",
            " |-- Name: string (nullable = true)\n",
            " |-- Id: long (nullable = true)\n",
            "\n"
          ]
        }
      ]
    },
    {
      "cell_type": "markdown",
      "source": [
        "## Selecting Columns"
      ],
      "metadata": {
        "id": "32jT7V9olR2F"
      }
    },
    {
      "cell_type": "code",
      "source": [
        "df.select(\"Name\").show()"
      ],
      "metadata": {
        "colab": {
          "base_uri": "https://localhost:8080/"
        },
        "id": "Fo9w6e4DlS8B",
        "outputId": "60f172f3-541f-4b43-db03-9cca9772a965"
      },
      "execution_count": 21,
      "outputs": [
        {
          "output_type": "stream",
          "name": "stdout",
          "text": [
            "+-----+\n",
            "| Name|\n",
            "+-----+\n",
            "|Alice|\n",
            "|  Bob|\n",
            "|Cathy|\n",
            "+-----+\n",
            "\n"
          ]
        }
      ]
    },
    {
      "cell_type": "code",
      "source": [
        "df.take(2)"
      ],
      "metadata": {
        "colab": {
          "base_uri": "https://localhost:8080/"
        },
        "id": "G7NjTVxMjkDD",
        "outputId": "f08b6135-9b7d-4965-f82f-caa8b2e33f3c"
      },
      "execution_count": 19,
      "outputs": [
        {
          "output_type": "execute_result",
          "data": {
            "text/plain": [
              "[Row(Name='Alice', Id=1), Row(Name='Bob', Id=2)]"
            ]
          },
          "metadata": {},
          "execution_count": 19
        }
      ]
    },
    {
      "cell_type": "code",
      "source": [
        "df.collect()"
      ],
      "metadata": {
        "colab": {
          "base_uri": "https://localhost:8080/"
        },
        "id": "H95jgfXekE7A",
        "outputId": "675db78b-2455-4183-e786-9875791a515d"
      },
      "execution_count": 14,
      "outputs": [
        {
          "output_type": "execute_result",
          "data": {
            "text/plain": [
              "[Row(Name='Alice', Id=1), Row(Name='Bob', Id=2), Row(Name='Cathy', Id=3)]"
            ]
          },
          "metadata": {},
          "execution_count": 14
        }
      ]
    },
    {
      "cell_type": "markdown",
      "source": [
        "## Filtering Data"
      ],
      "metadata": {
        "id": "dT7Zb8jAlXN3"
      }
    },
    {
      "cell_type": "code",
      "source": [
        "df.filter(df.Id > 1).show()"
      ],
      "metadata": {
        "colab": {
          "base_uri": "https://localhost:8080/"
        },
        "id": "HcT1e4nolaJb",
        "outputId": "5f921c69-ba47-4929-ea3a-4f89a1486f80"
      },
      "execution_count": 22,
      "outputs": [
        {
          "output_type": "stream",
          "name": "stdout",
          "text": [
            "+-----+---+\n",
            "| Name| Id|\n",
            "+-----+---+\n",
            "|  Bob|  2|\n",
            "|Cathy|  3|\n",
            "+-----+---+\n",
            "\n"
          ]
        }
      ]
    },
    {
      "cell_type": "markdown",
      "source": [
        "## Adding a New Column"
      ],
      "metadata": {
        "id": "ZLYmBJzXldhe"
      }
    },
    {
      "cell_type": "code",
      "source": [
        "from pyspark.sql.functions import col\n",
        "\n",
        "df = df.withColumn(\"NewId\", col(\"Id\") + 10)\n",
        "df.show()"
      ],
      "metadata": {
        "colab": {
          "base_uri": "https://localhost:8080/"
        },
        "id": "Kg4goyIblefF",
        "outputId": "720d18dc-4b56-48a2-ff32-521399c5973c"
      },
      "execution_count": 24,
      "outputs": [
        {
          "output_type": "stream",
          "name": "stdout",
          "text": [
            "+-----+---+-----+\n",
            "| Name| Id|NewId|\n",
            "+-----+---+-----+\n",
            "|Alice|  1|   11|\n",
            "|  Bob|  2|   12|\n",
            "|Cathy|  3|   13|\n",
            "+-----+---+-----+\n",
            "\n"
          ]
        }
      ]
    },
    {
      "cell_type": "markdown",
      "source": [
        "## Renaming a Column"
      ],
      "metadata": {
        "id": "J1u3GoMAloaW"
      }
    },
    {
      "cell_type": "code",
      "source": [
        "df = df.withColumnRenamed(\"NewId\", \"UpdatedId\")\n",
        "df.show()"
      ],
      "metadata": {
        "colab": {
          "base_uri": "https://localhost:8080/"
        },
        "id": "l53lg5lJlqqr",
        "outputId": "46b543e9-32d7-426e-a22d-f633345bd59d"
      },
      "execution_count": 25,
      "outputs": [
        {
          "output_type": "stream",
          "name": "stdout",
          "text": [
            "+-----+---+---------+\n",
            "| Name| Id|UpdatedId|\n",
            "+-----+---+---------+\n",
            "|Alice|  1|       11|\n",
            "|  Bob|  2|       12|\n",
            "|Cathy|  3|       13|\n",
            "+-----+---+---------+\n",
            "\n"
          ]
        }
      ]
    },
    {
      "cell_type": "markdown",
      "source": [
        "## Dropping a Column"
      ],
      "metadata": {
        "id": "5u-pBlMjltrQ"
      }
    },
    {
      "cell_type": "code",
      "source": [
        "df = df.drop(\"UpdatedId\")\n",
        "df.show()"
      ],
      "metadata": {
        "colab": {
          "base_uri": "https://localhost:8080/"
        },
        "id": "22fsENVWluoi",
        "outputId": "fe86e06e-cf5a-48be-aa7d-318f8bd72cf0"
      },
      "execution_count": 26,
      "outputs": [
        {
          "output_type": "stream",
          "name": "stdout",
          "text": [
            "+-----+---+\n",
            "| Name| Id|\n",
            "+-----+---+\n",
            "|Alice|  1|\n",
            "|  Bob|  2|\n",
            "|Cathy|  3|\n",
            "+-----+---+\n",
            "\n"
          ]
        }
      ]
    },
    {
      "cell_type": "markdown",
      "source": [
        "## Aggregations"
      ],
      "metadata": {
        "id": "TCrtJjV6lyjv"
      }
    },
    {
      "cell_type": "code",
      "source": [
        "from pyspark.sql import functions as F\n",
        "\n",
        "df.agg(F.avg(\"Id\")).show()"
      ],
      "metadata": {
        "colab": {
          "base_uri": "https://localhost:8080/"
        },
        "id": "6i2xFR_slzTI",
        "outputId": "c1d2a2a5-ffce-451c-c10b-d7ad1a6e3db0"
      },
      "execution_count": 27,
      "outputs": [
        {
          "output_type": "stream",
          "name": "stdout",
          "text": [
            "+-------+\n",
            "|avg(Id)|\n",
            "+-------+\n",
            "|    2.0|\n",
            "+-------+\n",
            "\n"
          ]
        }
      ]
    },
    {
      "cell_type": "code",
      "source": [
        "df_grouped = df.groupBy(\"Name\").count()\n",
        "df_grouped.show()"
      ],
      "metadata": {
        "colab": {
          "base_uri": "https://localhost:8080/"
        },
        "id": "znvzAvcwl2PS",
        "outputId": "e65e5593-8b48-485f-c901-1d51eaef06d5"
      },
      "execution_count": 28,
      "outputs": [
        {
          "output_type": "stream",
          "name": "stdout",
          "text": [
            "+-----+-----+\n",
            "| Name|count|\n",
            "+-----+-----+\n",
            "|Alice|    1|\n",
            "|  Bob|    1|\n",
            "|Cathy|    1|\n",
            "+-----+-----+\n",
            "\n"
          ]
        }
      ]
    },
    {
      "cell_type": "markdown",
      "source": [
        "## Saving DataFrame"
      ],
      "metadata": {
        "id": "XZa1KH7wl6Zy"
      }
    },
    {
      "cell_type": "code",
      "source": [
        "df.write.csv(\"output.csv\", header=True)"
      ],
      "metadata": {
        "id": "UA0p3dDsl7H6"
      },
      "execution_count": null,
      "outputs": []
    },
    {
      "cell_type": "markdown",
      "source": [
        "## Stopping the Spark Session"
      ],
      "metadata": {
        "id": "Wtzgyai2l-FD"
      }
    },
    {
      "cell_type": "code",
      "source": [
        "spark.stop()"
      ],
      "metadata": {
        "id": "_PzsxXgBl-vZ"
      },
      "execution_count": null,
      "outputs": []
    },
    {
      "cell_type": "markdown",
      "source": [
        "# Spark SQL"
      ],
      "metadata": {
        "id": "fPoaazSumwEu"
      }
    },
    {
      "cell_type": "code",
      "source": [
        "df.createOrReplaceTempView(\"people\")"
      ],
      "metadata": {
        "id": "jCq7Fj-Km5KZ"
      },
      "execution_count": 32,
      "outputs": []
    },
    {
      "cell_type": "markdown",
      "source": [
        "## Selecting Data"
      ],
      "metadata": {
        "id": "KNydkHJdm8ke"
      }
    },
    {
      "cell_type": "code",
      "source": [
        "result = spark.sql(\"SELECT * FROM people\")\n",
        "result.show()"
      ],
      "metadata": {
        "colab": {
          "base_uri": "https://localhost:8080/"
        },
        "id": "3GB_YvHzm-MD",
        "outputId": "dd1f4d44-66df-4824-99d8-1953ab5e7649"
      },
      "execution_count": 33,
      "outputs": [
        {
          "output_type": "stream",
          "name": "stdout",
          "text": [
            "+-----+---+\n",
            "| Name| Id|\n",
            "+-----+---+\n",
            "|Alice|  1|\n",
            "|  Bob|  2|\n",
            "|Cathy|  3|\n",
            "+-----+---+\n",
            "\n"
          ]
        }
      ]
    },
    {
      "cell_type": "markdown",
      "source": [
        "## Filtering Data"
      ],
      "metadata": {
        "id": "yGsInee6nCzu"
      }
    },
    {
      "cell_type": "code",
      "source": [
        "filtered_result = spark.sql(\"SELECT * FROM people WHERE Id > 1\")\n",
        "filtered_result.show()"
      ],
      "metadata": {
        "colab": {
          "base_uri": "https://localhost:8080/"
        },
        "id": "k_fwby9-nD3L",
        "outputId": "c3b13978-5d0e-426e-d926-47de8f644865"
      },
      "execution_count": 34,
      "outputs": [
        {
          "output_type": "stream",
          "name": "stdout",
          "text": [
            "+-----+---+\n",
            "| Name| Id|\n",
            "+-----+---+\n",
            "|  Bob|  2|\n",
            "|Cathy|  3|\n",
            "+-----+---+\n",
            "\n"
          ]
        }
      ]
    },
    {
      "cell_type": "markdown",
      "source": [
        "## Aggregating Data"
      ],
      "metadata": {
        "id": "iLCEsnDEnGK1"
      }
    },
    {
      "cell_type": "code",
      "source": [
        "agg_result = spark.sql(\"SELECT COUNT(*) as count FROM people\")\n",
        "agg_result.show()"
      ],
      "metadata": {
        "colab": {
          "base_uri": "https://localhost:8080/"
        },
        "id": "TgOk4uQjnGye",
        "outputId": "f74251a3-5259-4c1a-c7ef-30c1c87baa66"
      },
      "execution_count": 35,
      "outputs": [
        {
          "output_type": "stream",
          "name": "stdout",
          "text": [
            "+-----+\n",
            "|count|\n",
            "+-----+\n",
            "|    3|\n",
            "+-----+\n",
            "\n"
          ]
        }
      ]
    },
    {
      "cell_type": "code",
      "source": [
        "grouped_result = spark.sql(\"SELECT Name, COUNT(*) as count FROM people GROUP BY Name\")\n",
        "grouped_result.show()"
      ],
      "metadata": {
        "colab": {
          "base_uri": "https://localhost:8080/"
        },
        "id": "JnY4xRVCnInG",
        "outputId": "c763e330-2e41-4859-842e-6daa85ed42a2"
      },
      "execution_count": 36,
      "outputs": [
        {
          "output_type": "stream",
          "name": "stdout",
          "text": [
            "+-----+-----+\n",
            "| Name|count|\n",
            "+-----+-----+\n",
            "|Alice|    1|\n",
            "|  Bob|    1|\n",
            "|Cathy|    1|\n",
            "+-----+-----+\n",
            "\n"
          ]
        }
      ]
    },
    {
      "cell_type": "markdown",
      "source": [
        "## Sorting Data"
      ],
      "metadata": {
        "id": "3xx1r0OCnK3p"
      }
    },
    {
      "cell_type": "code",
      "source": [
        "sorted_result = spark.sql(\"SELECT * FROM people ORDER BY Id DESC\")\n",
        "sorted_result.show()"
      ],
      "metadata": {
        "colab": {
          "base_uri": "https://localhost:8080/"
        },
        "id": "MVL6YQ3SnLtO",
        "outputId": "c1d337cf-6d20-4b18-b58a-55b709a0d46c"
      },
      "execution_count": 37,
      "outputs": [
        {
          "output_type": "stream",
          "name": "stdout",
          "text": [
            "+-----+---+\n",
            "| Name| Id|\n",
            "+-----+---+\n",
            "|Cathy|  3|\n",
            "|  Bob|  2|\n",
            "|Alice|  1|\n",
            "+-----+---+\n",
            "\n"
          ]
        }
      ]
    },
    {
      "cell_type": "markdown",
      "source": [
        "## Creating and Using Temporary Views"
      ],
      "metadata": {
        "id": "DwIR_ambnOL0"
      }
    },
    {
      "cell_type": "code",
      "source": [
        "data2 = [(\"David\", 4), (\"Eva\", 5)]\n",
        "columns = [\"Name\", \"Id\"]\n",
        "df2 = spark.createDataFrame(data2, schema=columns)\n",
        "df2.createOrReplaceTempView(\"more_people\")"
      ],
      "metadata": {
        "id": "UaT8-crWnO3m"
      },
      "execution_count": 39,
      "outputs": []
    },
    {
      "cell_type": "markdown",
      "source": [
        "## Querying from both views"
      ],
      "metadata": {
        "id": "G0zZqt_6nS9Z"
      }
    },
    {
      "cell_type": "code",
      "source": [
        "combined_result = spark.sql(\"\"\"\n",
        "    SELECT Name, Id FROM people\n",
        "    UNION ALL\n",
        "    SELECT Name, Id FROM more_people\n",
        "\"\"\")\n",
        "combined_result.show()"
      ],
      "metadata": {
        "colab": {
          "base_uri": "https://localhost:8080/"
        },
        "id": "gG0Oov-3nt-O",
        "outputId": "7565e1bc-5097-4af1-aaec-433702398320"
      },
      "execution_count": 40,
      "outputs": [
        {
          "output_type": "stream",
          "name": "stdout",
          "text": [
            "+-----+---+\n",
            "| Name| Id|\n",
            "+-----+---+\n",
            "|Alice|  1|\n",
            "|  Bob|  2|\n",
            "|Cathy|  3|\n",
            "|David|  4|\n",
            "|  Eva|  5|\n",
            "+-----+---+\n",
            "\n"
          ]
        }
      ]
    },
    {
      "cell_type": "markdown",
      "source": [
        "# Saving Query Results"
      ],
      "metadata": {
        "id": "3I-BIaW4nw5H"
      }
    },
    {
      "cell_type": "code",
      "source": [
        "agg_result.write.csv(\"agg_result.csv\", header=True)"
      ],
      "metadata": {
        "id": "WS3iIcqXnxuD"
      },
      "execution_count": null,
      "outputs": []
    }
  ]
}